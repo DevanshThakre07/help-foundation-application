{
 "cells": [
  {
   "cell_type": "code",
   "execution_count": 5,
   "id": "db713eb5-fb32-4cc1-8f7c-07beb61a5655",
   "metadata": {},
   "outputs": [
    {
     "name": "stdout",
     "output_type": "stream",
     "text": [
      "Overwriting app.py\n"
     ]
    }
   ],
   "source": [
    "%%writefile app.py\n",
    "import streamlit as st\n",
    "import numpy as np\n",
    "import pandas as pd\n",
    "import joblib \n",
    "# First load the instances that wer created\n",
    "with open('scaler.joblib','rb') as file:\n",
    "    scale = joblib.load(file)\n",
    "with open(\"pca.joblib\",\"rb\") as file:\n",
    "    pca = joblib.load(file)\n",
    "with open(\"final_model.joblib\",\"rb\") as file:\n",
    "    model = joblib.load(file)\n",
    "def prediction(input_list):\n",
    "    scale_input = scale.transform([input_list])\n",
    "    pca_input = pca.transform(scale_input)\n",
    "    output = model.predict(pca_input)[0]\n",
    "    if output == 0:\n",
    "        return 'Underdeveloped'\n",
    "    elif output == 1:\n",
    "        return 'Developed'\n",
    "    else:\n",
    "        return 'Developing'\n",
    "def main():\n",
    "    st.title('Help NGO Foundation')\n",
    "    st.subheader('This application will give the status of a countary based on socio-economis and healthcare')\n",
    "    gdp = st.text_input('Enter the GDP per population of a country')\n",
    "    inc = st.text_input('Enter the  per capita income of a country')\n",
    "    imp = st.text_input('Enter the  imports in terms of GDP')\n",
    "    exp = st.text_input('Enter the  exports in terms of GDP')\n",
    "    inf = st.text_input('Enter the  inflation in the country in percentage')\n",
    "    hel = st.text_input('Enter the  expenditure on health in terms % of GDP')\n",
    "    ch_m = st.text_input('Enter the  no of deaths per 1000 births for <5 yrs')\n",
    "    fer = st.text_input('Enter the avg children born to a women in a country')\n",
    "    lf = st.text_input('Enter the avg life expectency in a country')\n",
    "    in_data = [ch_m,exp,hel,imp,inc,inf,lf,fer,gdp]\n",
    "\n",
    "    if st.button('Predict'):\n",
    "        response = prediction(in_data)\n",
    "        st.success(response)\n",
    "if __name__=='__main__':\n",
    "    main()"
   ]
  },
  {
   "cell_type": "code",
   "execution_count": null,
   "id": "0d74b074-a61d-4f4c-b923-6e80d49dda68",
   "metadata": {},
   "outputs": [],
   "source": []
  }
 ],
 "metadata": {
  "kernelspec": {
   "display_name": "Python [conda env:base] *",
   "language": "python",
   "name": "conda-base-py"
  },
  "language_info": {
   "codemirror_mode": {
    "name": "ipython",
    "version": 3
   },
   "file_extension": ".py",
   "mimetype": "text/x-python",
   "name": "python",
   "nbconvert_exporter": "python",
   "pygments_lexer": "ipython3",
   "version": "3.9.21"
  }
 },
 "nbformat": 4,
 "nbformat_minor": 5
}
